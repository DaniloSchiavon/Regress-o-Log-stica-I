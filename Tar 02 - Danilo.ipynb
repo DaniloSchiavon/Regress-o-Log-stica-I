{
 "cells": [
  {
   "cell_type": "markdown",
   "metadata": {},
   "source": [
    "# Regressão Logística I\n",
    "## Tarefa II\n",
    "\n",
    "Vamos trabalhar com a mesma base do exercício anterior, mas vamos aprofundar um pouco mais a nossa regressão."
   ]
  },
  {
   "cell_type": "code",
   "execution_count": 1,
   "metadata": {},
   "outputs": [],
   "source": [
    "import pandas as pd\n",
    "import seaborn as sns\n",
    "import matplotlib.pyplot as plt\n",
    "import numpy as np\n",
    "\n",
    "import statsmodels.formula.api as smf"
   ]
  },
  {
   "cell_type": "code",
   "execution_count": 5,
   "metadata": {
    "tags": []
   },
   "outputs": [
    {
     "data": {
      "text/html": [
       "<div>\n",
       "<style scoped>\n",
       "    .dataframe tbody tr th:only-of-type {\n",
       "        vertical-align: middle;\n",
       "    }\n",
       "\n",
       "    .dataframe tbody tr th {\n",
       "        vertical-align: top;\n",
       "    }\n",
       "\n",
       "    .dataframe thead th {\n",
       "        text-align: right;\n",
       "    }\n",
       "</style>\n",
       "<table border=\"1\" class=\"dataframe\">\n",
       "  <thead>\n",
       "    <tr style=\"text-align: right;\">\n",
       "      <th></th>\n",
       "      <th>age</th>\n",
       "      <th>sex</th>\n",
       "      <th>cp</th>\n",
       "      <th>trestbps</th>\n",
       "      <th>chol</th>\n",
       "      <th>fbs</th>\n",
       "      <th>restecg</th>\n",
       "      <th>thalach</th>\n",
       "      <th>exang</th>\n",
       "      <th>oldpeak</th>\n",
       "      <th>slope</th>\n",
       "      <th>ca</th>\n",
       "      <th>thal</th>\n",
       "      <th>num</th>\n",
       "      <th>flag_doente</th>\n",
       "    </tr>\n",
       "  </thead>\n",
       "  <tbody>\n",
       "    <tr>\n",
       "      <th>0</th>\n",
       "      <td>63.0</td>\n",
       "      <td>1.0</td>\n",
       "      <td>1.0</td>\n",
       "      <td>145.0</td>\n",
       "      <td>233.0</td>\n",
       "      <td>1.0</td>\n",
       "      <td>2.0</td>\n",
       "      <td>150.0</td>\n",
       "      <td>0.0</td>\n",
       "      <td>2.3</td>\n",
       "      <td>3.0</td>\n",
       "      <td>0.0</td>\n",
       "      <td>6.0</td>\n",
       "      <td>0</td>\n",
       "      <td>0</td>\n",
       "    </tr>\n",
       "    <tr>\n",
       "      <th>1</th>\n",
       "      <td>67.0</td>\n",
       "      <td>1.0</td>\n",
       "      <td>4.0</td>\n",
       "      <td>160.0</td>\n",
       "      <td>286.0</td>\n",
       "      <td>0.0</td>\n",
       "      <td>2.0</td>\n",
       "      <td>108.0</td>\n",
       "      <td>1.0</td>\n",
       "      <td>1.5</td>\n",
       "      <td>2.0</td>\n",
       "      <td>3.0</td>\n",
       "      <td>3.0</td>\n",
       "      <td>2</td>\n",
       "      <td>1</td>\n",
       "    </tr>\n",
       "    <tr>\n",
       "      <th>2</th>\n",
       "      <td>67.0</td>\n",
       "      <td>1.0</td>\n",
       "      <td>4.0</td>\n",
       "      <td>120.0</td>\n",
       "      <td>229.0</td>\n",
       "      <td>0.0</td>\n",
       "      <td>2.0</td>\n",
       "      <td>129.0</td>\n",
       "      <td>1.0</td>\n",
       "      <td>2.6</td>\n",
       "      <td>2.0</td>\n",
       "      <td>2.0</td>\n",
       "      <td>7.0</td>\n",
       "      <td>1</td>\n",
       "      <td>1</td>\n",
       "    </tr>\n",
       "    <tr>\n",
       "      <th>3</th>\n",
       "      <td>37.0</td>\n",
       "      <td>1.0</td>\n",
       "      <td>3.0</td>\n",
       "      <td>130.0</td>\n",
       "      <td>250.0</td>\n",
       "      <td>0.0</td>\n",
       "      <td>0.0</td>\n",
       "      <td>187.0</td>\n",
       "      <td>0.0</td>\n",
       "      <td>3.5</td>\n",
       "      <td>3.0</td>\n",
       "      <td>0.0</td>\n",
       "      <td>3.0</td>\n",
       "      <td>0</td>\n",
       "      <td>0</td>\n",
       "    </tr>\n",
       "    <tr>\n",
       "      <th>4</th>\n",
       "      <td>41.0</td>\n",
       "      <td>0.0</td>\n",
       "      <td>2.0</td>\n",
       "      <td>130.0</td>\n",
       "      <td>204.0</td>\n",
       "      <td>0.0</td>\n",
       "      <td>2.0</td>\n",
       "      <td>172.0</td>\n",
       "      <td>0.0</td>\n",
       "      <td>1.4</td>\n",
       "      <td>1.0</td>\n",
       "      <td>0.0</td>\n",
       "      <td>3.0</td>\n",
       "      <td>0</td>\n",
       "      <td>0</td>\n",
       "    </tr>\n",
       "  </tbody>\n",
       "</table>\n",
       "</div>"
      ],
      "text/plain": [
       "    age  sex   cp  trestbps   chol  fbs  restecg  thalach  exang  oldpeak  \\\n",
       "0  63.0  1.0  1.0     145.0  233.0  1.0      2.0    150.0    0.0      2.3   \n",
       "1  67.0  1.0  4.0     160.0  286.0  0.0      2.0    108.0    1.0      1.5   \n",
       "2  67.0  1.0  4.0     120.0  229.0  0.0      2.0    129.0    1.0      2.6   \n",
       "3  37.0  1.0  3.0     130.0  250.0  0.0      0.0    187.0    0.0      3.5   \n",
       "4  41.0  0.0  2.0     130.0  204.0  0.0      2.0    172.0    0.0      1.4   \n",
       "\n",
       "   slope   ca thal  num  flag_doente  \n",
       "0    3.0  0.0  6.0    0            0  \n",
       "1    2.0  3.0  3.0    2            1  \n",
       "2    2.0  2.0  7.0    1            1  \n",
       "3    3.0  0.0  3.0    0            0  \n",
       "4    1.0  0.0  3.0    0            0  "
      ]
     },
     "execution_count": 5,
     "metadata": {},
     "output_type": "execute_result"
    }
   ],
   "source": [
    "url = 'https://archive.ics.uci.edu/ml/machine-learning-databases/heart-disease/processed.cleveland.data'\n",
    "\n",
    "df = pd.read_csv(url, \n",
    "                 names=['age', 'sex', 'cp', 'trestbps', 'chol', 'fbs', 'restecg',\n",
    "                        'thalach', 'exang', 'oldpeak', 'slope', 'ca', 'thal', 'num'])\n",
    "df['flag_doente'] = (df['num']!=0).astype('int64')\n",
    "df.head()"
   ]
  },
  {
   "cell_type": "markdown",
   "metadata": {},
   "source": [
    "A descrição das variáveis está recortada abaixo:\n",
    "- age: idade do paciente em anos\n",
    "- sex: sexo (1 = male; 0 = female)  \n",
    "- cp: tipo de dor no peito\n",
    "  - 1: angina típica\n",
    "  - 2: angina atípica\n",
    "  - 3: dor não-angina\n",
    "  - 4: assintomático\n",
    "- trestbps: pressão sanguínea em repouso (em mm Hg na admissão ao hospital\n",
    "- chol: colesterol sérico em mg/dl\n",
    "- fbs: (açúcar no sangue em jejum > 120 mg/dl) (1 = True; 0 = False)\n",
    "- restecg: resultados eletrocardiográficos em repouso\n",
    "  - 0: normal\n",
    "  - 1: tendo anormalidade da onda ST-T (Inversões de onda T e / ou ST com elevação ou depressão de > 0.05 mV)\n",
    "  - 2: mostrando hipertrofia ventricular esquerda provável ou definitiva pelos critérios de Estes\n",
    "- thalach: frequência cardíaca máxima alcançada\n",
    "- exang: angina induzida por exercício(1 = sim; 0 = não)\n",
    "- oldpeak = Depressão de ST induzida por exercício em relação ao repouso\n",
    "- slope: Depressão de ST induzida por exercício em relação ao repouso\n",
    "  - 1: inclinação ascendente\n",
    "  - 2: estável\n",
    "  - 3: inclinação descendente\n",
    "- ca: número de vasos principais (0-3) coloridos por fluorosopia\n",
    "- thal: 3 = normal; 6 = defeito corrigido; 7 = defeito reversível\n",
    "- num: diagnóstico de doença cardíaga (status de doença angiográfica)"
   ]
  },
  {
   "cell_type": "code",
   "execution_count": 7,
   "metadata": {},
   "outputs": [
    {
     "name": "stdout",
     "output_type": "stream",
     "text": [
      "<class 'pandas.core.frame.DataFrame'>\n",
      "RangeIndex: 303 entries, 0 to 302\n",
      "Data columns (total 15 columns):\n",
      " #   Column       Non-Null Count  Dtype  \n",
      "---  ------       --------------  -----  \n",
      " 0   age          303 non-null    float64\n",
      " 1   sex          303 non-null    float64\n",
      " 2   cp           303 non-null    float64\n",
      " 3   trestbps     303 non-null    float64\n",
      " 4   chol         303 non-null    float64\n",
      " 5   fbs          303 non-null    float64\n",
      " 6   restecg      303 non-null    float64\n",
      " 7   thalach      303 non-null    float64\n",
      " 8   exang        303 non-null    float64\n",
      " 9   oldpeak      303 non-null    float64\n",
      " 10  slope        303 non-null    float64\n",
      " 11  ca           303 non-null    object \n",
      " 12  thal         303 non-null    object \n",
      " 13  num          303 non-null    int64  \n",
      " 14  flag_doente  303 non-null    int64  \n",
      "dtypes: float64(11), int64(2), object(2)\n",
      "memory usage: 35.6+ KB\n"
     ]
    }
   ],
   "source": [
    "df.info()"
   ]
  },
  {
   "cell_type": "markdown",
   "metadata": {},
   "source": [
    "1. Considere o script que monta a análise bivariada que você fez na tarefa anterior. Transforme esse script em uma função, que deve:\n",
    "- Ter como parâmetros de entrada:\n",
    "    - Um *dataframe* contendo os dados a serem avaliados\n",
    "    - Um *string* contendo o nome da variável resposta\n",
    "    - Um *string* contendo o nome da variável explicativa\n",
    "- E deve retornar um *dataframe* com os dados da bivariada. \n",
    "**Monte** a mesma bivariada pelo menos três variáveis qualitativas do *data-frame*. Qual delas parece discriminar mais o risco?"
   ]
  },
  {
   "cell_type": "code",
   "execution_count": 9,
   "metadata": {},
   "outputs": [
    {
     "name": "stdout",
     "output_type": "stream",
     "text": [
      "\n",
      "Análise bivariada para sex:\n",
      "flag_doente    0    1  Total      Odds  Odds_Ratio    Logito       WOE\n",
      "sex                                                                   \n",
      "0.0           72   25     97  0.347222    0.409672 -1.057790 -0.892398\n",
      "1.0           92  114    206  1.239130    1.461996  0.214410  0.379802\n",
      "Total        164  139    303  0.847561    1.000000 -0.165392  0.000000\n",
      "\n",
      "Análise bivariada para cp:\n",
      "flag_doente    0    1  Total      Odds  Odds_Ratio    Logito       WOE\n",
      "cp                                                                    \n",
      "1.0           16    7     23  0.437500    0.516187 -0.826679 -0.661286\n",
      "2.0           41    9     50  0.219512    0.258993 -1.516347 -1.350955\n",
      "3.0           68   18     86  0.264706    0.312315 -1.329136 -1.163743\n",
      "4.0           39  105    144  2.692308    3.176536  0.990399  1.155791\n",
      "Total        164  139    303  0.847561    1.000000 -0.165392  0.000000\n",
      "\n",
      "Análise bivariada para restecg:\n",
      "flag_doente    0    1  Total      Odds  Odds_Ratio    Logito       WOE\n",
      "restecg                                                               \n",
      "0.0           95   56    151  0.589474    0.695494 -0.528525 -0.363133\n",
      "1.0            1    3      4  3.000000    3.539568  1.098612  1.264005\n",
      "2.0           68   80    148  1.176471    1.388066  0.162519  0.327911\n",
      "Total        164  139    303  0.847561    1.000000 -0.165392  0.000000\n"
     ]
    }
   ],
   "source": [
    "# Parâmetros\n",
    "def analise_bivariada(df, variavel_resposta, variavel_explicativa):\n",
    "    tabela = pd.crosstab(df[variavel_explicativa], df[variavel_resposta], margins=True, margins_name='Total')\n",
    "    tabela['Odds'] = tabela[1] / tabela[0]\n",
    "    tabela['Odds_Ratio'] = tabela['Odds'] / tabela.loc['Total', 'Odds']\n",
    "    tabela['Logito'] = np.log(tabela['Odds'])\n",
    "    tabela['WOE'] = np.log(tabela['Odds_Ratio'])\n",
    "    \n",
    "    return tabela\n",
    "\n",
    "# Exemplo com 3 var. qualitativas\n",
    "variaveis_qualitativas = ['sex', 'cp', 'restecg']\n",
    "\n",
    "for var in variaveis_qualitativas:\n",
    "    print(f\"\\nAnálise bivariada para {var}:\")\n",
    "    tabela_bivariada = analise_bivariada(df, 'flag_doente', var)\n",
    "    print(tabela_bivariada)"
   ]
  },
  {
   "cell_type": "markdown",
   "metadata": {},
   "source": [
    "2. Monte uma função semelhante para categorizar variáveis quantitativas contínuas (com muitas categorias) como ```age```.  \n",
    "    Além dos mesmos parâmetros da função anterior, defina mais um parâmetro como número de categorias que você deseja quebrar. Defina um valor '*default*' de 5 grupos para este parâmetro.  "
   ]
  },
  {
   "cell_type": "code",
   "execution_count": 11,
   "metadata": {},
   "outputs": [
    {
     "name": "stdout",
     "output_type": "stream",
     "text": [
      "flag_doente       0    1  Total      Odds  Odds_Ratio    Logito       WOE\n",
      "grupo                                                                    \n",
      "(28.999, 45.0]   47   16     63  0.340426    0.401653 -1.077559 -0.912166\n",
      "(45.0, 53.0]     42   22     64  0.523810    0.618020 -0.646627 -0.481235\n",
      "(53.0, 58.0]     32   39     71  1.218750    1.437950  0.197826  0.363218\n",
      "(58.0, 62.0]     13   32     45  2.461538    2.904261  0.900787  1.066179\n",
      "(62.0, 77.0]     30   30     60  1.000000    1.179856  0.000000  0.165392\n",
      "Total           164  139    303  0.847561    1.000000 -0.165392  0.000000\n"
     ]
    }
   ],
   "source": [
    "# Categorizar var quntitativas\n",
    "def categorizar_variavel(df, variavel_resposta, variavel_explicativa, num_grupos=5):\n",
    "    df['grupo'] = pd.qcut(df[variavel_explicativa], num_grupos)\n",
    "    tabela = pd.crosstab(df['grupo'], df[variavel_resposta], margins=True, margins_name='Total')\n",
    "    tabela['Odds'] = tabela[1] / tabela[0]\n",
    "    tabela['Odds_Ratio'] = tabela['Odds'] / tabela.loc['Total', 'Odds']\n",
    "    tabela['Logito'] = np.log(tabela['Odds'])\n",
    "    tabela['WOE'] = np.log(tabela['Odds_Ratio'])\n",
    "    \n",
    "    return tabela\n",
    "\n",
    "# Exemplo com a var 'age'\n",
    "tabela_age = categorizar_variavel(df, 'flag_doente', 'age')\n",
    "print(tabela_age)"
   ]
  },
  {
   "cell_type": "markdown",
   "metadata": {},
   "source": [
    "3. Construa um modelo de regressão logística com as variáveis qualitativas: ```sex + cp +  trestbps``` e com a variável quantitativa ```age```.\n",
    "\n",
    "**Interprete os parâmetros.**"
   ]
  },
  {
   "cell_type": "code",
   "execution_count": 13,
   "metadata": {},
   "outputs": [
    {
     "name": "stdout",
     "output_type": "stream",
     "text": [
      "Optimization terminated successfully.\n",
      "         Current function value: 0.510076\n",
      "         Iterations 6\n",
      "                           Logit Regression Results                           \n",
      "==============================================================================\n",
      "Dep. Variable:            flag_doente   No. Observations:                  303\n",
      "Model:                          Logit   Df Residuals:                      298\n",
      "Method:                           MLE   Df Model:                            4\n",
      "Date:                Wed, 02 Oct 2024   Pseudo R-squ.:                  0.2605\n",
      "Time:                        14:29:03   Log-Likelihood:                -154.55\n",
      "converged:                       True   LL-Null:                       -208.99\n",
      "Covariance Type:            nonrobust   LLR p-value:                 1.264e-22\n",
      "==============================================================================\n",
      "                 coef    std err          z      P>|z|      [0.025      0.975]\n",
      "------------------------------------------------------------------------------\n",
      "Intercept    -11.1167      1.608     -6.915      0.000     -14.267      -7.966\n",
      "sex            1.8021      0.331      5.444      0.000       1.153       2.451\n",
      "cp             1.1403      0.169      6.739      0.000       0.809       1.472\n",
      "trestbps       0.0214      0.008      2.600      0.009       0.005       0.037\n",
      "age            0.0582      0.017      3.348      0.001       0.024       0.092\n",
      "==============================================================================\n"
     ]
    }
   ],
   "source": [
    "# Modelo\n",
    "modelo_logistico = smf.logit('flag_doente ~ sex + cp + trestbps + age', data=df).fit()\n",
    "print(modelo_logistico.summary())"
   ]
  },
  {
   "cell_type": "markdown",
   "metadata": {},
   "source": [
    " ### Interpretação:\n",
    "  Podemos concluir que o sexo, tipo de dor no peito, pressão arterial e idade são fatores significativos para prever o risco de doença cardíaca."
   ]
  },
  {
   "cell_type": "markdown",
   "metadata": {},
   "source": [
    "4. Avalie o seu modelo quanto a **calibragem**:\n",
    "- Calcule a probabilidade de evento predita segundo o seu modelo\n",
    "- Categorize essa probabilidade em G=5 grupos\n",
    "- Calcule a probabilidade de evento predita média por grupo\n",
    "- Calcule a taxa de eventos (média da variável indicadora de eventos) por grupo\n",
    "- Compare graficamente o valor eperado versus observado para a taxa de maus por grupo"
   ]
  },
  {
   "cell_type": "code",
   "execution_count": 15,
   "metadata": {},
   "outputs": [
    {
     "name": "stderr",
     "output_type": "stream",
     "text": [
      "C:\\Users\\suporte\\AppData\\Local\\Temp\\ipykernel_14372\\789609849.py:8: FutureWarning: The default of observed=False is deprecated and will be changed to True in a future version of pandas. Pass observed=False to retain current behavior or observed=True to adopt the future default and silence this warning.\n",
      "  calibragem = df.groupby('grupo_prob').agg(\n"
     ]
    },
    {
     "name": "stdout",
     "output_type": "stream",
     "text": [
      "        grupo_prob  prob_evento_medio  taxa_eventos\n",
      "0  (0.0119, 0.146]           0.076255      0.098361\n",
      "1   (0.146, 0.349]           0.249060      0.183333\n",
      "2   (0.349, 0.575]           0.457982      0.491803\n",
      "3   (0.575, 0.772]           0.673059      0.683333\n",
      "4   (0.772, 0.928]           0.837449      0.836066\n"
     ]
    },
    {
     "data": {
      "image/png": "[encoded data removed]",
      "text/plain": [
       "<Figure size 640x480 with 1 Axes>"
      ]
     },
     "metadata": {},
     "output_type": "display_data"
    }
   ],
   "source": [
    "# Calcular a probabilidade predita\n",
    "df['prob_evento'] = modelo_logistico.predict()\n",
    "\n",
    "# Categorizar a probabilidade em 5 grupos\n",
    "df['grupo_prob'] = pd.qcut(df['prob_evento'], 5)\n",
    "\n",
    "# Calcular a probabilidade média predita e a taxa\n",
    "calibragem = df.groupby('grupo_prob').agg(\n",
    "    prob_evento_medio=('prob_evento', 'mean'),\n",
    "    taxa_eventos=('flag_doente', 'mean')\n",
    ").reset_index()\n",
    "print(calibragem)\n",
    "\n",
    "# Gráfico de comparação\n",
    "plt.plot(calibragem['prob_evento_medio'], calibragem['taxa_eventos'], marker='o')\n",
    "plt.xlabel('Probabilidade Predita Média')\n",
    "plt.ylabel('Taxa de Eventos')\n",
    "plt.title('Calibragem do Modelo')\n",
    "plt.grid(True)\n",
    "plt.show()"
   ]
  },
  {
   "cell_type": "markdown",
   "metadata": {},
   "source": [
    "5. Avalie o seu modelo quanto a discriminação calculando acurácia, GINI e KS."
   ]
  },
  {
   "cell_type": "code",
   "execution_count": 17,
   "metadata": {},
   "outputs": [
    {
     "name": "stdout",
     "output_type": "stream",
     "text": [
      "Acurácia: 0.78\n",
      "GINI: 0.66\n",
      "KS: 0.58\n"
     ]
    }
   ],
   "source": [
    "from sklearn.metrics import accuracy_score, roc_auc_score, roc_curve\n",
    "\n",
    "# Acurácia\n",
    "acuracia = accuracy_score(df['flag_doente'], (df['prob_evento'] > 0.5).astype(int))\n",
    "print(f\"Acurácia: {acuracia:.2f}\")\n",
    "\n",
    "# GINI\n",
    "roc_auc = roc_auc_score(df['flag_doente'], df['prob_evento'])\n",
    "gini = 2 * roc_auc - 1\n",
    "print(f\"GINI: {gini:.2f}\")\n",
    "\n",
    "# KS\n",
    "fpr, tpr, thresholds = roc_curve(df['flag_doente'], df['prob_evento'])\n",
    "ks = max(tpr - fpr)\n",
    "print(f\"KS: {ks:.2f}\")"
   ]
  },
  {
   "cell_type": "markdown",
   "metadata": {},
   "source": [
    "6. tente melhorar o modelo obtido, por exemplo inserindo ou removendo variáveis.  \n",
    "    Avalie as características do seu modelo (calibragem e acurácia)."
   ]
  },
  {
   "cell_type": "code",
   "execution_count": 21,
   "metadata": {},
   "outputs": [
    {
     "name": "stdout",
     "output_type": "stream",
     "text": [
      "Optimization terminated successfully.\n",
      "         Current function value: 0.463802\n",
      "         Iterations 7\n",
      "                           Logit Regression Results                           \n",
      "==============================================================================\n",
      "Dep. Variable:            flag_doente   No. Observations:                  303\n",
      "Model:                          Logit   Df Residuals:                      296\n",
      "Method:                           MLE   Df Model:                            6\n",
      "Date:                Wed, 02 Oct 2024   Pseudo R-squ.:                  0.3276\n",
      "Time:                        14:33:24   Log-Likelihood:                -140.53\n",
      "converged:                       True   LL-Null:                       -208.99\n",
      "Covariance Type:            nonrobust   LLR p-value:                 4.479e-27\n",
      "==============================================================================\n",
      "                 coef    std err          z      P>|z|      [0.025      0.975]\n",
      "------------------------------------------------------------------------------\n",
      "Intercept     -5.2971      2.184     -2.425      0.015      -9.577      -1.017\n",
      "sex            2.0642      0.370      5.580      0.000       1.339       2.789\n",
      "cp             0.9860      0.176      5.614      0.000       0.642       1.330\n",
      "trestbps       0.0269      0.009      3.006      0.003       0.009       0.044\n",
      "age            0.0210      0.019      1.081      0.280      -0.017       0.059\n",
      "chol           0.0068      0.003      2.335      0.020       0.001       0.013\n",
      "thalach       -0.0393      0.008     -4.689      0.000      -0.056      -0.023\n",
      "==============================================================================\n"
     ]
    }
   ],
   "source": [
    "# Teste de melhoria\n",
    "modelo_melhorado = smf.logit('flag_doente ~ sex + cp + trestbps + age + chol + thalach', data=df).fit()\n",
    "print(modelo_melhorado.summary())"
   ]
  },
  {
   "cell_type": "markdown",
   "metadata": {},
   "source": [
    "### Teste de melhoria:\n",
    "* Além das variáveis já analisadas (sexo, tipo de dor no peito, pressão arterial e idade), o colesterol e a frequência cardíaca máxima também se tornam importantes. A idade perde um pouco a importância quando outras variáveis foraam adicionadas, indicando que os efeitos de idade e colesterol / frequêcia cardíaca se sobrepõem."
   ]
  }
 ],
 "metadata": {
  "kernelspec": {
   "display_name": "Python 3 (ipykernel)",
   "language": "python",
   "name": "python3"
  },
  "language_info": {
   "codemirror_mode": {
    "name": "ipython",
    "version": 3
   },
   "file_extension": ".py",
   "mimetype": "text/x-python",
   "name": "python",
   "nbconvert_exporter": "python",
   "pygments_lexer": "ipython3",
   "version": "3.11.7"
  }
 },
 "nbformat": 4,
 "nbformat_minor": 4
}
